{
 "cells": [
  {
   "cell_type": "markdown",
   "metadata": {},
   "source": [
    "# ДЗ4\n",
    "\n",
    "## Задание №1\n",
    "\n",
    "1. Скачайте из папки с домашними заданиями английский текст первой книги о Гарри Поттере. Он должен быть сохранен отдельным файлом.\n",
    "2. Очистите текст от пунктуации, приведите его к нижнему регистру, лемматизируйте и запишите в новый файл. Проверьте, выполняется ли здесь закон Ципфа. Для этого постройте линейную диаграмму, где по оси Х будет ранг (порядковый номер) слова в отсортированном по убыванию частотном словаре, а по оси Y - относительная частота (абсолютная частота, разделенная на количество слов в тексте). Т.е. у самого частотного слова будет ранг 1, у второго по частоте -- 2 и т.д.\n",
    "3. Очистите текст от стоп-слов. Постройте barplot для 30 самых частотных слов. Эти слова должны быть по оси Х в виде подписей к делениям. Значениями по этой оси будет ряд чисел от 0 до 30."
   ]
  },
  {
   "cell_type": "code",
   "execution_count": 1,
   "metadata": {},
   "outputs": [],
   "source": [
    "# -*- coding: utf-8 -*-\n",
    "import re\n",
    "from nltk.tokenize import word_tokenize\n",
    "from nltk import WordNetLemmatizer\n",
    "from nltk.tokenize import sent_tokenize\n",
    " \n",
    "wnl = WordNetLemmatizer()\n",
    " \n",
    "src=\"Harry_Potter_and_the_Sorcerers_Stone.txt\"\n",
    "dst=\"output.txt\"\n",
    " \n",
    "file = open(src, \"r\")\n",
    "text = re.sub(r'[^\\w\\s\\']','', file.read()).lower()\n",
    "file.close()\n",
    " \n",
    " \n",
    "finish = []\n",
    "for word in word_tokenize(text):\n",
    "    finish.append(wnl.lemmatize(word, pos='v'))\n",
    " \n",
    "filedst = open(dst, \"w\")\n",
    "filedst.write(' '.join(finish))\n",
    "filedst.close()\n",
    " \n",
    " \n",
    "# выбираем слова через регулярные выражения\n",
    "p = re.compile(\"([a-zA-Z-']+)\")\n",
    "res=p.findall(' '.join(finish))\n",
    " \n",
    "# создаем словарь. Ключ-слово, Значение-частота повторения\n",
    "lsWord = {}\n",
    "for key in res:\n",
    "    key = key.lower()\n",
    "    if key in lsWord:\n",
    "        value = lsWord[key]\n",
    "        lsWord[key]=value+1\n",
    "    else:\n",
    "        lsWord[key]=1\n",
    " \n",
    "# создаем список ключей отсортированный по значению словаря lsWord\n",
    "sorted_keys = sorted(lsWord, key=lambda x: int(lsWord[x]), reverse=True)"
   ]
  },
  {
   "cell_type": "code",
   "execution_count": null,
   "metadata": {},
   "outputs": [],
   "source": []
  }
 ],
 "metadata": {
  "kernelspec": {
   "display_name": "Python 3",
   "language": "python",
   "name": "python3"
  },
  "language_info": {
   "codemirror_mode": {
    "name": "ipython",
    "version": 3
   },
   "file_extension": ".py",
   "mimetype": "text/x-python",
   "name": "python",
   "nbconvert_exporter": "python",
   "pygments_lexer": "ipython3",
   "version": "3.7.0"
  }
 },
 "nbformat": 4,
 "nbformat_minor": 2
}
