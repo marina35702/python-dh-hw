{
 "cells": [
  {
   "cell_type": "code",
   "execution_count": 1,
   "metadata": {},
   "outputs": [
    {
     "name": "stdout",
     "output_type": "stream",
     "text": [
      "[['варкалось', 'хливкие'], ['хливкие', 'шорьки'], ['шорьки', 'пырялись'], ['пырялись', 'по'], ['по', 'наве'], ['наве', 'и'], ['и', 'хрюкотали'], ['хрюкотали', 'зелюки'], ['зелюки', 'как'], ['как', 'мюмзики'], ['мюмзики', 'в'], ['в', 'мове'], ['мове', 'о'], ['о', 'бойся'], ['бойся', 'бармаглота'], ['бармаглота', 'сын'], ['сын', 'он'], ['он', 'так'], ['так', 'свирлеп'], ['свирлеп', 'и'], ['и', 'дик'], ['дик', 'а'], ['а', 'в'], ['в', 'глyще'], ['глyще', 'рымит'], ['рымит', 'исполин'], ['исполин', 'злопастный'], ['злопастный', 'брандашмыг']]\n"
     ]
    }
   ],
   "source": [
    "#задание 1\n",
    "#записываем текст в переменную\n",
    "text = \"\"\"варкалось хливкие шорьки пырялись по наве и хрюкотали зелюки как мюмзики в мове о бойся бармаглота сын он так свирлеп и дик а в глyще рымит исполин злопастный брандашмыг\"\"\"\n",
    "#разбиваем текст на слова\n",
    "slova = text.split()\n",
    "#записываем слова в список \n",
    "bigramms = []\n",
    "#используем цикл для создания списка биграмм\n",
    "for i in range(len(slova)-1):\n",
    "    bigramms. append([slova[i],slova[i+1]])\n",
    "print(bigramms)"
   ]
  },
  {
   "cell_type": "code",
   "execution_count": 4,
   "metadata": {},
   "outputs": [
    {
     "name": "stdout",
     "output_type": "stream",
     "text": [
      "['.ipynb_checkpoints', 'котики', 'сказки']\n",
      "['.DS_Store', 'боль.txt', 'ворон.txt', 'деды.txt', 'кажется задание 2 черновик.ipynb', 'кладь.txt', 'ночь.txt', 'черновик задание 1 дз 2.ipynb', 'шредингер.txt']\n",
      "9\n",
      "[]\n",
      "['кажется задание 2 черновик-checkpoint.ipynb', 'черновик задание 1 дз 2-checkpoint.ipynb']\n",
      "2\n",
      "[]\n",
      "['.DS_Store', 'кот.txt', 'лео.txt', 'пушок.txt']\n",
      "4\n",
      "[]\n",
      "['гримм.txt', 'королевич.txt', 'король.txt', 'крестная.txt', 'яга.txt']\n",
      "5\n"
     ]
    },
    {
     "ename": "UnicodeDecodeError",
     "evalue": "'utf-8' codec can't decode byte 0xff in position 1080: invalid start byte",
     "output_type": "error",
     "traceback": [
      "\u001b[0;31m---------------------------------------------------------------------------\u001b[0m",
      "\u001b[0;31mUnicodeDecodeError\u001b[0m                        Traceback (most recent call last)",
      "\u001b[0;32m<ipython-input-4-a1260aeedb16>\u001b[0m in \u001b[0;36m<module>\u001b[0;34m()\u001b[0m\n\u001b[1;32m     15\u001b[0m             \u001b[0;32mif\u001b[0m \u001b[0mos\u001b[0m\u001b[0;34m.\u001b[0m\u001b[0mpath\u001b[0m\u001b[0;34m.\u001b[0m\u001b[0mexists\u001b[0m\u001b[0;34m(\u001b[0m\u001b[0mfile\u001b[0m\u001b[0;34m)\u001b[0m\u001b[0;34m:\u001b[0m\u001b[0;34m\u001b[0m\u001b[0m\n\u001b[1;32m     16\u001b[0m                 \u001b[0;32mwith\u001b[0m \u001b[0mopen\u001b[0m\u001b[0;34m(\u001b[0m\u001b[0mfile\u001b[0m\u001b[0;34m,\u001b[0m \u001b[0;34m'r'\u001b[0m\u001b[0;34m,\u001b[0m \u001b[0mencoding\u001b[0m\u001b[0;34m=\u001b[0m\u001b[0;34m'utf-8'\u001b[0m\u001b[0;34m)\u001b[0m \u001b[0;32mas\u001b[0m \u001b[0mname\u001b[0m\u001b[0;34m:\u001b[0m\u001b[0;34m\u001b[0m\u001b[0m\n\u001b[0;32m---> 17\u001b[0;31m                     \u001b[0mname\u001b[0m\u001b[0;34m=\u001b[0m\u001b[0mname\u001b[0m\u001b[0;34m.\u001b[0m\u001b[0mread\u001b[0m\u001b[0;34m(\u001b[0m\u001b[0;34m)\u001b[0m\u001b[0;34m\u001b[0m\u001b[0m\n\u001b[0m\u001b[1;32m     18\u001b[0m                     \u001b[0mf\u001b[0m\u001b[0;34m.\u001b[0m\u001b[0mwrite\u001b[0m\u001b[0;34m(\u001b[0m\u001b[0mname\u001b[0m\u001b[0;34m+\u001b[0m \u001b[0;34m'\\n'\u001b[0m\u001b[0;34m)\u001b[0m\u001b[0;34m\u001b[0m\u001b[0m\n\u001b[1;32m     19\u001b[0m             \u001b[0;32melif\u001b[0m \u001b[0mos\u001b[0m\u001b[0;34m.\u001b[0m\u001b[0mpath\u001b[0m\u001b[0;34m.\u001b[0m\u001b[0mexists\u001b[0m\u001b[0;34m(\u001b[0m\u001b[0;34m'.\\котики\\%s'\u001b[0m \u001b[0;34m%\u001b[0m\u001b[0mfile\u001b[0m\u001b[0;34m)\u001b[0m\u001b[0;34m:\u001b[0m\u001b[0;34m\u001b[0m\u001b[0m\n",
      "\u001b[0;32m~/miniconda3/lib/python3.7/codecs.py\u001b[0m in \u001b[0;36mdecode\u001b[0;34m(self, input, final)\u001b[0m\n\u001b[1;32m    320\u001b[0m         \u001b[0;31m# decode input (taking the buffer into account)\u001b[0m\u001b[0;34m\u001b[0m\u001b[0;34m\u001b[0m\u001b[0m\n\u001b[1;32m    321\u001b[0m         \u001b[0mdata\u001b[0m \u001b[0;34m=\u001b[0m \u001b[0mself\u001b[0m\u001b[0;34m.\u001b[0m\u001b[0mbuffer\u001b[0m \u001b[0;34m+\u001b[0m \u001b[0minput\u001b[0m\u001b[0;34m\u001b[0m\u001b[0m\n\u001b[0;32m--> 322\u001b[0;31m         \u001b[0;34m(\u001b[0m\u001b[0mresult\u001b[0m\u001b[0;34m,\u001b[0m \u001b[0mconsumed\u001b[0m\u001b[0;34m)\u001b[0m \u001b[0;34m=\u001b[0m \u001b[0mself\u001b[0m\u001b[0;34m.\u001b[0m\u001b[0m_buffer_decode\u001b[0m\u001b[0;34m(\u001b[0m\u001b[0mdata\u001b[0m\u001b[0;34m,\u001b[0m \u001b[0mself\u001b[0m\u001b[0;34m.\u001b[0m\u001b[0merrors\u001b[0m\u001b[0;34m,\u001b[0m \u001b[0mfinal\u001b[0m\u001b[0;34m)\u001b[0m\u001b[0;34m\u001b[0m\u001b[0m\n\u001b[0m\u001b[1;32m    323\u001b[0m         \u001b[0;31m# keep undecoded input until the next call\u001b[0m\u001b[0;34m\u001b[0m\u001b[0;34m\u001b[0m\u001b[0m\n\u001b[1;32m    324\u001b[0m         \u001b[0mself\u001b[0m\u001b[0;34m.\u001b[0m\u001b[0mbuffer\u001b[0m \u001b[0;34m=\u001b[0m \u001b[0mdata\u001b[0m\u001b[0;34m[\u001b[0m\u001b[0mconsumed\u001b[0m\u001b[0;34m:\u001b[0m\u001b[0;34m]\u001b[0m\u001b[0;34m\u001b[0m\u001b[0m\n",
      "\u001b[0;31mUnicodeDecodeError\u001b[0m: 'utf-8' codec can't decode byte 0xff in position 1080: invalid start byte"
     ]
    }
   ],
   "source": [
    "#Задание 2\n",
    "#импортируем модуль\n",
    "import os\n",
    "#печатаем текущую директорию   \n",
    "os.getcwd()\n",
    "#этот пункт начать в новом окне,печатаем список всех файлов и папок в ней\n",
    "for root, dirs, files in os.walk('/Users/tokarevamarina/Desktop/notebook/poems'):\n",
    "    print(dirs)\n",
    "    print(files)\n",
    "    print(len(files))  #считаем и печатаем количество файлов в текущей директории\n",
    "#файлы в рабочей директории записываем в новый файл\n",
    "with open('poems.txt', 'w', encoding='utf-8') as f:\n",
    "    for root, dirs, files in os.walk('.'):\n",
    "        for file in files:\n",
    "            if os.path.exists(file):\n",
    "                with open(file, 'r', encoding='utf-8') as name:\n",
    "                    name=name.read()\n",
    "                    f.write(name+ '\\n')\n",
    "            elif os.path.exists('.\\котики\\%s' %file):\n",
    "                with open('.\\котики\\%s' %file, 'r',encoding='utf-8') as name:\n",
    "                    name=name.read()\n",
    "                    f.write(name+ '\\n')\n",
    "            elif os.path.exists('.\\сказки\\%s' %file):\n",
    "                with open('.\\сказки\\%s' %file,'r',encoding='utf-8') as name:\n",
    "                    name=name.read()\n",
    "                    f.write(name+ '\\n')\n",
    "with open ('poems.txt','r',encoding='utf-8') as q:\n",
    "    print (q.read())"
   ]
  },
  {
   "cell_type": "code",
   "execution_count": null,
   "metadata": {},
   "outputs": [],
   "source": []
  }
 ],
 "metadata": {
  "kernelspec": {
   "display_name": "Python 3",
   "language": "python",
   "name": "python3"
  },
  "language_info": {
   "codemirror_mode": {
    "name": "ipython",
    "version": 3
   },
   "file_extension": ".py",
   "mimetype": "text/x-python",
   "name": "python",
   "nbconvert_exporter": "python",
   "pygments_lexer": "ipython3",
   "version": "3.7.0"
  }
 },
 "nbformat": 4,
 "nbformat_minor": 2
}
