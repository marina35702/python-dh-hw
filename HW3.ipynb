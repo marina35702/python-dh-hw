{
 "cells": [
  {
   "cell_type": "markdown",
   "metadata": {},
   "source": [
    "# ДЗ №3\n",
    "\n",
    "## **Задание 1**\n",
    "\n",
    "Скачайте текст [\"Литературных анекдотов](https://github.com/ancatmara/python-for-dh/blob/master/Classes/9-10/literary_anecdotes.txt). Напишите функцию, которая будет читать файл, лемматизировать текст с помощью pymystem3 и записывать результат в новый файл. У функции должно бы два аргумента: путь к исходному файлу и путь к файлу с лемматизированным текстом. Вызов функции тоже должен быть прописан в решении."
   ]
  },
  {
   "cell_type": "code",
   "execution_count": 4,
   "metadata": {},
   "outputs": [],
   "source": [
    "from pymystem3 import Mystem\n",
    "def lematiz(path1, path2):\n",
    "    text = open(path1, 'r', encoding='utf-8') #открываем исходный файл\n",
    "    m = Mystem()\n",
    "    lemmaslist = ''.join(m.lemmatize(text.read())) #объединяем леммы в строку\n",
    "    text.close()\n",
    "    with open(path2, 'w', encoding='utf-8') as lema_text:\n",
    "        lema_text.write(lemmaslist)  #записываем результат в новый файл\n",
    "\n",
    "lematiz(\"/Users/tokarevamarina/Desktop/тексты/literary_anecdotes.txt\", \"/Users/tokarevamarina/Desktop/тексты/literary_anecdotes2.txt\")"
   ]
  },
  {
   "cell_type": "code",
   "execution_count": null,
   "metadata": {},
   "outputs": [],
   "source": []
  }
 ],
 "metadata": {
  "kernelspec": {
   "display_name": "Python 3",
   "language": "python",
   "name": "python3"
  },
  "language_info": {
   "codemirror_mode": {
    "name": "ipython",
    "version": 3
   },
   "file_extension": ".py",
   "mimetype": "text/x-python",
   "name": "python",
   "nbconvert_exporter": "python",
   "pygments_lexer": "ipython3",
   "version": "3.7.0"
  }
 },
 "nbformat": 4,
 "nbformat_minor": 2
}
