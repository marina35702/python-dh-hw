{
 "cells": [
  {
   "cell_type": "markdown",
   "metadata": {},
   "source": [
    "# ДЗ №3\n",
    "\n",
    "## **Задание 1**\n",
    "\n",
    "Скачайте текст [\"Литературных анекдотов](https://github.com/ancatmara/python-for-dh/blob/master/Classes/9-10/literary_anecdotes.txt). Напишите функцию, которая будет читать файл, лемматизировать текст с помощью pymystem3 и записывать результат в новый файл. У функции должно бы два аргумента: путь к исходному файлу и путь к файлу с лемматизированным текстом. Вызов функции тоже должен быть прописан в решении."
   ]
  },
  {
   "cell_type": "code",
   "execution_count": 1,
   "metadata": {},
   "outputs": [],
   "source": [
    "# -*- coding: utf-8 -*-\n",
    " \n",
    "import json\n",
    "import sys\n",
    "from pymystem3 import Mystem\n",
    "import ssl\n",
    "ssl._create_default_https_context = ssl._create_unverified_context\n",
    " \n",
    "from urllib.request import urlopen\n",
    "text = urlopen(\"https://raw.githubusercontent.com/ancatmara/python-for-dh/master/Classes/9-10/literary_anecdotes.txt\").read()\n",
    "dst = 'output.txt'\n",
    " \n",
    "m = Mystem()\n",
    "lemmas = m.lemmatize(text)\n",
    " \n",
    "filedst = open(dst, \"w\")\n",
    "filedst.write(''.join(lemmas))\n",
    "filedst.close()"
   ]
  },
  {
   "cell_type": "markdown",
   "metadata": {},
   "source": [
    "## Задание 2\n",
    "\n",
    "Очистите лемматизированный текст от стоп-слов и посчитайте ipm для оставшихся. Выведите 20 самых частотных по этому параметру слов."
   ]
  },
  {
   "cell_type": "code",
   "execution_count": 2,
   "metadata": {},
   "outputs": [
    {
     "name": "stdout",
     "output_type": "stream",
     "text": [
      "пушкин : 31775.70093457944\n",
      "толстой : 19314.641744548288\n",
      "гоголь : 17445.482866043614\n",
      "любить : 12461.059190031152\n",
      "достоевский : 11838.006230529596\n",
      "ребенок : 9345.794392523363\n",
      "царствие : 9345.794392523363\n",
      "лев : 8722.741433021807\n",
      "тургенев : 8722.741433021807\n",
      "небесный : 8099.68847352025\n",
      "окно : 7476.6355140186915\n",
      "тверской : 7476.6355140186915\n",
      "бульвар : 7476.6355140186915\n",
      "приходить : 6853.582554517134\n",
      "михайлович : 6853.582554517134\n",
      "лермонтов : 6230.529595015576\n",
      "переодеваться : 5607.476635514018\n",
      "идти : 5607.476635514018\n",
      "федор : 5607.476635514018\n",
      "хорошо : 5607.476635514018\n"
     ]
    }
   ],
   "source": [
    "#! /usr/bin/env python\n",
    " \n",
    "import sys\n",
    "import re\n",
    "from pymystem3 import Mystem\n",
    "import ssl\n",
    "ssl._create_default_https_context = ssl._create_unverified_context\n",
    " \n",
    "from urllib.request import urlopen\n",
    "text = urlopen(\"https://raw.githubusercontent.com/ancatmara/python-for-dh/master/Classes/9-10/literary_anecdotes.txt\").read()\n",
    "dst = 'output.txt'\n",
    "rem = urlopen(\"https://ucba245a91347972096aa1a298e7.dl.dropboxusercontent.com/cd/0/get/AXrRnfL41aUfMLOpBWNgd49LDbDvbxAu6atecUwpIS4pMM_L4qVnhJI5xaPMcYtaOeoCPzR9FL7EsHdRxIJQnEJBAHp-hhaApT05W5KsVrEG4TiPWuNHGdQB5P-4nYhNT0p7UxQmZXy49wJnq_Xp2EkFvv7mziT5KlDMvhJ-RVStPM_Jy6HDFY8EeC7uXTfxEkw/file?_download_id=0289998081734067576988630851329684827690259805942426825985573294653&_notify_domain=www.dropbox.com&dl=1\").read().decode('utf-8').splitlines()\n",
    " \n",
    " \n",
    "m = Mystem()\n",
    "lemmas = re.sub(r'[^\\w\\s]','', ''.join(m.lemmatize(text))).replace(\"\\r\", \"\").replace(\"\\n\", \"\").replace(r\"\\s+\", \" \").replace(\"  \", \" \") #преобразуем текст lemmatize, далее удаляем все переносы строк, двойные пробелы и табы, чтобы потом разбить каждое слово в массив\n",
    " \n",
    " \n",
    "orig = lemmas.split(' ') #разбиваем текст в массив через пробелы\n",
    " \n",
    " \n",
    "out = [x for x in orig if x not in rem ]\n",
    "count_words = len(out)\n",
    " \n",
    "count = {}\n",
    "for word in out:\n",
    "   if word in count :\n",
    "      count[word] += 1\n",
    "   else:\n",
    "      count[word] = 1\n",
    " \n",
    "ipm = {}\n",
    "for (i, item) in count.items():\n",
    "   ipm[i] = (item/count_words)*1000000\n",
    "   \n",
    "# print (i, item)\n",
    "ipm_s = sorted(ipm, key=lambda x: ipm[x], reverse=True)\n",
    "c=0\n",
    "for k in ipm_s:\n",
    "    if c < 20:\n",
    "        print(\"{} : {}\".format(k, ipm[k]))\n",
    "    c += 1"
   ]
  },
  {
   "cell_type": "code",
   "execution_count": null,
   "metadata": {},
   "outputs": [],
   "source": []
  }
 ],
 "metadata": {
  "kernelspec": {
   "display_name": "Python 3",
   "language": "python",
   "name": "python3"
  },
  "language_info": {
   "codemirror_mode": {
    "name": "ipython",
    "version": 3
   },
   "file_extension": ".py",
   "mimetype": "text/x-python",
   "name": "python",
   "nbconvert_exporter": "python",
   "pygments_lexer": "ipython3",
   "version": "3.7.0"
  }
 },
 "nbformat": 4,
 "nbformat_minor": 2
}
